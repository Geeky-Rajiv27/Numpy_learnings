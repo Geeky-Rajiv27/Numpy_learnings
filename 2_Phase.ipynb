{
 "cells": [
  {
   "cell_type": "code",
   "execution_count": 3,
   "id": "9d0cbc4d",
   "metadata": {},
   "outputs": [],
   "source": [
    "import numpy as np"
   ]
  },
  {
   "cell_type": "markdown",
   "id": "2c721e12",
   "metadata": {},
   "source": [
    "## ARRAY RESHAPING : "
   ]
  },
  {
   "cell_type": "code",
   "execution_count": null,
   "id": "4fb69c5e",
   "metadata": {},
   "outputs": [
    {
     "name": "stdout",
     "output_type": "stream",
     "text": [
      "Normal array :  [0 1 2 3 4 5 6 7 8 9]\n"
     ]
    }
   ],
   "source": [
    "\n",
    "arr = np.arange(10)\n",
    "print(\"Normal array : \", arr)"
   ]
  },
  {
   "cell_type": "code",
   "execution_count": null,
   "id": "e03c8e11",
   "metadata": {},
   "outputs": [
    {
     "name": "stdout",
     "output_type": "stream",
     "text": [
      "After reshaping the given array : \n",
      " [[0 1 2 3 4]\n",
      " [5 6 7 8 9]]\n"
     ]
    }
   ],
   "source": [
    "# NOTE : 1) reshape(rows, columns) ==> this can convert a vector into matrices of any order if possible\n",
    "reshaped_array = arr.reshape(2,5)\n",
    "print(\"After reshaping the given array : \\n\", reshaped_array)"
   ]
  },
  {
   "cell_type": "markdown",
   "id": "185b6c98",
   "metadata": {},
   "source": [
    "## difference between .flatten() and .ravel()"
   ]
  },
  {
   "cell_type": "markdown",
   "id": "f771c56d",
   "metadata": {},
   "source": [
    "Use flatten() when:\n",
    "You need a new, independent copy of the array and want to ensure the original data is never changed.\n",
    "The highest performance is not a critical concern.\n",
    "\n",
    "\n",
    "Use ravel() when:\n",
    "You want the most memory-efficient and fastest way to flatten an array.\n",
    "You are aware that changes to the returned array might affect the original data. "
   ]
  },
  {
   "cell_type": "code",
   "execution_count": null,
   "id": "b5c3b44a",
   "metadata": {},
   "outputs": [
    {
     "name": "stdout",
     "output_type": "stream",
     "text": [
      "After flattening : \n",
      " [0 1 2 3 4 5 6 7 8 9]\n"
     ]
    }
   ],
   "source": [
    "# NOTE : 2) flatten()       ---> This converts the matrices of particular order into a normal vector \n",
    "\n",
    "flattened_array = reshaped_array.flatten()\n",
    "print(f\"After flattening : \\n\", flattened_array)"
   ]
  },
  {
   "cell_type": "code",
   "execution_count": null,
   "id": "74f5a246",
   "metadata": {},
   "outputs": [
    {
     "name": "stdout",
     "output_type": "stream",
     "text": [
      "The ravelled_array is :  [0 1 2 3 4 5 6 7 8 9]\n",
      "After flattening :  [0 1 2 3 4 5 6 7 8 9]\n"
     ]
    }
   ],
   "source": [
    "# NOTE : 3) .ravel()---> This makes changes over the original\n",
    "\n",
    "ravelled_array = flattened_array.ravel()\n",
    "print(f\"The ravelled_array is : \",ravelled_array)\n"
   ]
  },
  {
   "cell_type": "markdown",
   "id": "6c51a013",
   "metadata": {},
   "source": [
    "## Some array opearation"
   ]
  },
  {
   "cell_type": "markdown",
   "id": "89c39554",
   "metadata": {},
   "source": [
    " # SLICING OF ARRAY"
   ]
  },
  {
   "cell_type": "code",
   "execution_count": null,
   "id": "cfb28eed",
   "metadata": {},
   "outputs": [
    {
     "name": "stdout",
     "output_type": "stream",
     "text": [
      "Array_1D :  [0 1 2 3 4 5 6 7 8 9]\n",
      "Basic slicing :  [1 3 5 7]\n"
     ]
    }
   ],
   "source": [
    "#NOTE : basic slicing of the array\n",
    "import numpy as np\n",
    "\n",
    "array_1D = np.arange(10)\n",
    "print(\"Array_1D : \",array_1D)\n",
    "print(\"Basic slicing : \", array_1D[1:9:2])      #(startIndex : endIndex : step)\n"
   ]
  },
  {
   "cell_type": "code",
   "execution_count": null,
   "id": "ab355b90",
   "metadata": {},
   "outputs": [
    {
     "name": "stdout",
     "output_type": "stream",
     "text": [
      "negative slicing :  5\n"
     ]
    }
   ],
   "source": [
    "#NOTE : negative slicing concept revision : \n",
    "\n",
    "print(\"negative slicing : \", array_1D[-5])"
   ]
  },
  {
   "cell_type": "markdown",
   "id": "49694f72",
   "metadata": {},
   "source": [
    "### slicing of 2D and 3D array"
   ]
  },
  {
   "cell_type": "markdown",
   "id": "0006caac",
   "metadata": {},
   "source": [
    "# for multi- dimensional matrices we need to give index of both rows and columns .\n",
    "# the count of the rows will be form 0th rows to nth . Similarly the count of the \n",
    "# columns will also be same as rows"
   ]
  },
  {
   "cell_type": "code",
   "execution_count": 5,
   "id": "7e2bb396",
   "metadata": {},
   "outputs": [
    {
     "name": "stdout",
     "output_type": "stream",
     "text": [
      "Specific element :  5\n",
      " for example Entire 3rd row :  [7 8 9]\n",
      " for example Entire 2nd column :  [2 5 8]\n"
     ]
    }
   ],
   "source": [
    "import numpy as np\n",
    "Array_2D = np.array([[1,2,3],\n",
    "                     [4,5,6],\n",
    "                     [7,8,9]])\n",
    "#To select element - 5 from above matrice\n",
    "\n",
    "#NOTE : IN normal python nested list doesn't supports multidimensional slicing\n",
    "#NOTE : while in numpy's arrays since arrays are multi dimensional so, they supports slicing so, we can slice \n",
    "#       through each axis using commas(,)\n",
    "#  \n",
    "print(\"Specific element : \", Array_2D[1, 1])      # (rows and column)\n",
    "\n",
    "#----------------------------------------------------------------------------\n",
    "# NOTE : to select whole rows\n",
    "\n",
    "print(\" for example Entire 3rd row : \", Array_2D[2])\n",
    "\n",
    "#----------------------------------------------------------------------------\n",
    "#NOTE : to select whole column\n",
    "\n",
    "print(\" for example Entire 2nd column : \", Array_2D[:, 1])\n"
   ]
  },
  {
   "cell_type": "markdown",
   "id": "e2605cc4",
   "metadata": {},
   "source": [
    "### Sorting in numpy"
   ]
  },
  {
   "cell_type": "markdown",
   "id": "7c7f2cf8",
   "metadata": {},
   "source": [
    "# NOTE : here we use a special numpy method to sort the 1D or 2D vector or matrices respectively"
   ]
  },
  {
   "cell_type": "code",
   "execution_count": null,
   "id": "c0adddd3",
   "metadata": {},
   "outputs": [
    {
     "name": "stdout",
     "output_type": "stream",
     "text": [
      "Sorting 1D array :  [2 3 5 6]\n"
     ]
    }
   ],
   "source": [
    "#NOTE : sorting 1D array\n",
    "Array_1D = np.array([5, 2, 3, 6])\n",
    "print(\"Sorting 1D array : \", np.sort(Array_1D))"
   ]
  },
  {
   "cell_type": "code",
   "execution_count": 10,
   "id": "0e679048",
   "metadata": {},
   "outputs": [
    {
     "name": "stdout",
     "output_type": "stream",
     "text": [
      "Sorting 2D array :  [[6 2 1]\n",
      " [7 4 3]\n",
      " [8 5 9]]\n"
     ]
    }
   ],
   "source": [
    "#NOTE : sorting 2D array according to columns\n",
    "Array_2D = np.array([[6,2,3],\n",
    "                     [8,5,1],\n",
    "                     [7,4,9]])\n",
    "print(\"Sorting 2D array : \", np.sort(Array_2D, axis=0))"
   ]
  },
  {
   "cell_type": "code",
   "execution_count": 11,
   "id": "79deff6c",
   "metadata": {},
   "outputs": [
    {
     "name": "stdout",
     "output_type": "stream",
     "text": [
      "Sorting 2D array :  [[2 3 6]\n",
      " [1 5 8]\n",
      " [4 7 9]]\n"
     ]
    }
   ],
   "source": [
    "#NOTE : sorting 2D array according to rows\n",
    "Array_2D = np.array([[6,2,3],\n",
    "                     [8,5,1],\n",
    "                     [7,4,9]])\n",
    "print(\"Sorting 2D array : \", np.sort(Array_2D, axis=1))"
   ]
  },
  {
   "cell_type": "markdown",
   "id": "8531c3e1",
   "metadata": {},
   "source": [
    "# axis = 0 ---> means sorting columns wise\n",
    "# axis = 1 ---> means sorting rows wise"
   ]
  },
  {
   "cell_type": "markdown",
   "id": "2a7d9153",
   "metadata": {},
   "source": [
    "## Filtering "
   ]
  },
  {
   "cell_type": "code",
   "execution_count": null,
   "id": "5e5d8376",
   "metadata": {},
   "outputs": [
    {
     "name": "stdout",
     "output_type": "stream",
     "text": [
      "Even number list :  [2 4 6 8]\n"
     ]
    }
   ],
   "source": [
    "#NOTE : here we can use the conditions like this \n",
    "number = np.array([1,2,3,4,5,6,7,8,9])\n",
    "even_only = number[number % 2 == 0]\n",
    "print(\"Even number list : \", even_only)"
   ]
  },
  {
   "cell_type": "markdown",
   "id": "70c6f020",
   "metadata": {},
   "source": [
    "## filter with mask : \n",
    "        mask is just a expression that evaluates for eg: conditions\n",
    "        FOR Eg : "
   ]
  },
  {
   "cell_type": "code",
   "execution_count": null,
   "id": "5ce2a877",
   "metadata": {},
   "outputs": [
    {
     "name": "stdout",
     "output_type": "stream",
     "text": [
      "List of no. greater than 6 :  [7 8 9]\n"
     ]
    }
   ],
   "source": [
    "mask = number > 6       # ---> so this is an expression (mask)\n",
    "print(\"List of no. greater than 6 : \", number[mask])"
   ]
  },
  {
   "cell_type": "markdown",
   "id": "d8cd53cd",
   "metadata": {},
   "source": [
    "### Fancy Indexing and np.where()"
   ]
  },
  {
   "cell_type": "code",
   "execution_count": 6,
   "id": "223f2bc4",
   "metadata": {},
   "outputs": [
    {
     "name": "stdout",
     "output_type": "stream",
     "text": [
      "Number of indexes(3,1,7) :  [4 2 8]\n"
     ]
    }
   ],
   "source": [
    "indices = [3, 1, 7]     # these are the indexes of the elements which we want\n",
    "print(\"Number of indexes(3,1,7) : \", number[indices])"
   ]
  },
  {
   "cell_type": "markdown",
   "id": "7a54fae3",
   "metadata": {},
   "source": [
    "# There are two cases of np.where():\n",
    "\n",
    "1) single parameter : in this case, we use a single condition and this returns indices of elements in the form of expressions not exactly as list .But we can format this using zip.\n",
    "\n",
    "2) 3 - Argument form : here , we have np.where(condition , x , y) so, if the condition is \n",
    "    True then it selects elements from x and if False then selects from y\n",
    "    This doesn't gives output in the form of expression hence, we can directly print it."
   ]
  },
  {
   "cell_type": "code",
   "execution_count": null,
   "id": "60d8ad91",
   "metadata": {},
   "outputs": [
    {
     "name": "stdout",
     "output_type": "stream",
     "text": [
      "np.where() result :  (array([4, 5, 6, 7, 8]),)\n"
     ]
    }
   ],
   "source": [
    "#NOTE : case 1\n",
    "\n",
    "where_result = np.where(number > 4)\n",
    "print(\"np.where() result : \", where_result) # this will show expression not exact result"
   ]
  },
  {
   "cell_type": "code",
   "execution_count": null,
   "id": "27a2f698",
   "metadata": {},
   "outputs": [
    {
     "name": "stdout",
     "output_type": "stream",
     "text": [
      "where_result_case2 :  [ 1  2  3  4 10 12 14 16 18]\n"
     ]
    }
   ],
   "source": [
    "# NOTE : case 2 --> this don't give output in the form of expressions as in case 1\n",
    "\n",
    "# if condition is false then, it will put the element as unused as it is ! \n",
    "where_result_case2 = np.where(number > 4, number * 2, number)\n",
    "print(\"where_result_case2 : \", where_result_case2)"
   ]
  },
  {
   "cell_type": "markdown",
   "id": "54329933",
   "metadata": {},
   "source": [
    "### Array Adding and removing : "
   ]
  },
  {
   "cell_type": "code",
   "execution_count": 14,
   "id": "4aedaab8",
   "metadata": {},
   "outputs": [
    {
     "name": "stdout",
     "output_type": "stream",
     "text": [
      "Adding corresponding elements :  [5 7 9]\n",
      "combining :  [1 2 3 4 5 6]\n"
     ]
    }
   ],
   "source": [
    "arr1 = np.array([1, 2, 3])\n",
    "arr2 = np.array([4, 5, 6])\n",
    "\n",
    "adding_eachElements_array = arr1 + arr2    #NOTE : This is wrong way. This will add corresponding elements\n",
    "combined = np.concatenate((arr1, arr2))\n",
    "print(\"Adding corresponding elements : \", adding_eachElements_array)\n",
    "print(\"combining : \", combined)\n"
   ]
  },
  {
   "cell_type": "markdown",
   "id": "4e877c51",
   "metadata": {},
   "source": [
    "### Compatibility shapes of an array : "
   ]
  },
  {
   "cell_type": "code",
   "execution_count": 17,
   "id": "eb2299df",
   "metadata": {},
   "outputs": [
    {
     "name": "stdout",
     "output_type": "stream",
     "text": [
      "Shapes of array a :  (3,)\n",
      "Shapes of array b :  (3,)\n",
      "Shapes of array c :  (3,)\n",
      "Compatibility shpaes :  True\n"
     ]
    }
   ],
   "source": [
    "a = np.array([1, 2, 3])\n",
    "b = np.array([4, 5, 6])\n",
    "c = np.array([7, 8, 9])\n",
    "\n",
    "# Shapes of array = a\n",
    "print(\"Shapes of array a : \", a.shape)\n",
    "\n",
    "# Shapes of array = b\n",
    "print(\"Shapes of array b : \", b.shape)\n",
    "\n",
    "# Shapes of array = c\n",
    "print(\"Shapes of array c : \", c.shape)\n",
    "\n",
    "# NOTE : we can check the shape of the arrays \n",
    "print(\"Compatibility shpaes : \", a.shape == b.shape == c.shape)\n",
    " "
   ]
  },
  {
   "cell_type": "markdown",
   "id": "a4e18b8b",
   "metadata": {},
   "source": [
    "###     Insertion of rows and column : "
   ]
  },
  {
   "cell_type": "code",
   "execution_count": 25,
   "id": "ac06aa96",
   "metadata": {},
   "outputs": [
    {
     "name": "stdout",
     "output_type": "stream",
     "text": [
      "Before adding new row : \n",
      " [[1 2]\n",
      " [3 5]]\n",
      "\n",
      "\n",
      "Original with new row : \n",
      " [[1 2]\n",
      " [3 5]\n",
      " [4 7]]\n",
      "\n",
      "\n",
      "Original with new column : \n",
      " [[1 2 8]\n",
      " [3 5 9]]\n"
     ]
    }
   ],
   "source": [
    "original = np.array([[1,2],\n",
    "                     [3,5]])\n",
    "\n",
    "row_to_add = np.array([4, 7])\n",
    "col_to_add = np.array([[8], [9]]) \n",
    "# this goes top to button per element 8 to top and 9 to buttom\n",
    "\n",
    "\n",
    "#NOTE : adding new row to original\n",
    "original_with_new_row = np.vstack((original, row_to_add))\n",
    "print(\"Before adding new row : \\n\", original)\n",
    "print(\"\\n\")\n",
    "print(\"Original with new row : \\n\", original_with_new_row )\n",
    "print(\"\\n\")\n",
    "\n",
    "#NOTE : adding new colum to original\n",
    "original_with_new_col = np.hstack((original, col_to_add))\n",
    "print(\"Original with new column : \\n\", original_with_new_col)"
   ]
  },
  {
   "cell_type": "markdown",
   "id": "d1db0784",
   "metadata": {},
   "source": [
    "### Array deletion : \n",
    "Syntax : np.delete(start, stop , step)\n",
    "            Or,\n",
    "         np.delete(array , index)"
   ]
  },
  {
   "cell_type": "code",
   "execution_count": 26,
   "id": "941b6ba2",
   "metadata": {},
   "outputs": [
    {
     "name": "stdout",
     "output_type": "stream",
     "text": [
      "Array after deleting element of index 2 :  [1 3 5 6 9]\n"
     ]
    }
   ],
   "source": [
    "arr = np.array([1, 3 ,4, 5, 6, 9])\n",
    "deleted_array = np.delete(arr, 2)\n",
    "print(\"Array after deleting element of index 2 : \", deleted_array)"
   ]
  },
  {
   "cell_type": "code",
   "execution_count": null,
   "id": "32bf36d4",
   "metadata": {},
   "outputs": [],
   "source": []
  }
 ],
 "metadata": {
  "kernelspec": {
   "display_name": "numpy_env",
   "language": "python",
   "name": "python3"
  },
  "language_info": {
   "codemirror_mode": {
    "name": "ipython",
    "version": 3
   },
   "file_extension": ".py",
   "mimetype": "text/x-python",
   "name": "python",
   "nbconvert_exporter": "python",
   "pygments_lexer": "ipython3",
   "version": "3.10.5"
  }
 },
 "nbformat": 4,
 "nbformat_minor": 5
}
