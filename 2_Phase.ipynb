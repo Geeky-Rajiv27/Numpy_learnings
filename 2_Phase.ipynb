{
 "cells": [
  {
   "cell_type": "markdown",
   "id": "2c721e12",
   "metadata": {},
   "source": [
    "## ARRAY RESHAPING : "
   ]
  },
  {
   "cell_type": "code",
   "execution_count": null,
   "id": "4fb69c5e",
   "metadata": {},
   "outputs": [
    {
     "name": "stdout",
     "output_type": "stream",
     "text": [
      "Normal array :  [0 1 2 3 4 5 6 7 8 9]\n"
     ]
    }
   ],
   "source": [
    "\n",
    "arr = np.arange(10)\n",
    "print(\"Normal array : \", arr)"
   ]
  },
  {
   "cell_type": "code",
   "execution_count": null,
   "id": "e03c8e11",
   "metadata": {},
   "outputs": [
    {
     "name": "stdout",
     "output_type": "stream",
     "text": [
      "After reshaping the given array : \n",
      " [[0 1 2 3 4]\n",
      " [5 6 7 8 9]]\n"
     ]
    }
   ],
   "source": [
    "# NOTE : 1) reshape(rows, columns) ==> this can convert a vector into matrices of any order if possible\n",
    "reshaped_array = arr.reshape(2,5)\n",
    "print(\"After reshaping the given array : \\n\", reshaped_array)"
   ]
  },
  {
   "cell_type": "markdown",
   "id": "185b6c98",
   "metadata": {},
   "source": [
    "## difference between .flatten() and .ravel()"
   ]
  },
  {
   "cell_type": "markdown",
   "id": "f771c56d",
   "metadata": {},
   "source": [
    "Use flatten() when:\n",
    "You need a new, independent copy of the array and want to ensure the original data is never changed.\n",
    "The highest performance is not a critical concern.\n",
    "\n",
    "\n",
    "Use ravel() when:\n",
    "You want the most memory-efficient and fastest way to flatten an array.\n",
    "You are aware that changes to the returned array might affect the original data. "
   ]
  },
  {
   "cell_type": "code",
   "execution_count": null,
   "id": "b5c3b44a",
   "metadata": {},
   "outputs": [
    {
     "name": "stdout",
     "output_type": "stream",
     "text": [
      "After flattening : \n",
      " [0 1 2 3 4 5 6 7 8 9]\n"
     ]
    }
   ],
   "source": [
    "# NOTE : 2) flatten()       ---> This converts the matrices of particular order into a normal vector \n",
    "\n",
    "flattened_array = reshaped_array.flatten()\n",
    "print(f\"After flattening : \\n\", flattened_array)"
   ]
  },
  {
   "cell_type": "code",
   "execution_count": null,
   "id": "74f5a246",
   "metadata": {},
   "outputs": [
    {
     "name": "stdout",
     "output_type": "stream",
     "text": [
      "The ravelled_array is :  [0 1 2 3 4 5 6 7 8 9]\n",
      "After flattening :  [0 1 2 3 4 5 6 7 8 9]\n"
     ]
    }
   ],
   "source": [
    "# NOTE : 3) .ravel()---> This makes changes over the original\n",
    "\n",
    "ravelled_array = flattened_array.ravel()\n",
    "print(f\"The ravelled_array is : \",ravelled_array)\n"
   ]
  },
  {
   "cell_type": "markdown",
   "id": "6c51a013",
   "metadata": {},
   "source": [
    "## Some array opearation"
   ]
  },
  {
   "cell_type": "markdown",
   "id": "89c39554",
   "metadata": {},
   "source": [
    " # SLICING OF ARRAY"
   ]
  },
  {
   "cell_type": "code",
   "execution_count": null,
   "id": "cfb28eed",
   "metadata": {},
   "outputs": [
    {
     "name": "stdout",
     "output_type": "stream",
     "text": [
      "Array_1D :  [0 1 2 3 4 5 6 7 8 9]\n",
      "Basic slicing :  [1 3 5 7]\n"
     ]
    }
   ],
   "source": [
    "#NOTE : basic slicing of the array\n",
    "import numpy as np\n",
    "\n",
    "array_1D = np.arange(10)\n",
    "print(\"Array_1D : \",array_1D)\n",
    "print(\"Basic slicing : \", array_1D[1:9:2])      #(startIndex : endIndex : step)\n"
   ]
  },
  {
   "cell_type": "code",
   "execution_count": null,
   "id": "ab355b90",
   "metadata": {},
   "outputs": [
    {
     "name": "stdout",
     "output_type": "stream",
     "text": [
      "negative slicing :  5\n"
     ]
    }
   ],
   "source": [
    "#NOTE : negative slicing concept revision : \n",
    "\n",
    "print(\"negative slicing : \", array_1D[-5])"
   ]
  },
  {
   "cell_type": "markdown",
   "id": "49694f72",
   "metadata": {},
   "source": [
    "### slicing of 2D and 3D array"
   ]
  },
  {
   "cell_type": "markdown",
   "id": "0006caac",
   "metadata": {},
   "source": [
    "# for multi- dimensional matrices we need to give index of both rows and columns .\n",
    "# the count of the rows will be form 0th rows to nth . Similarly the count of the \n",
    "# columns will also be same as rows"
   ]
  },
  {
   "cell_type": "code",
   "execution_count": null,
   "id": "7e2bb396",
   "metadata": {},
   "outputs": [
    {
     "name": "stdout",
     "output_type": "stream",
     "text": [
      "Specific element :  5\n"
     ]
    }
   ],
   "source": [
    "Array_2D = np.array([[1,2,3],\n",
    "                     [4,5,6],\n",
    "                     [7,8,9]])\n",
    "#To select element - 5 from above matrice\n",
    "print(\"Specific element : \", Array_2D[1, 1])      # (rows and column)"
   ]
  },
  {
   "cell_type": "code",
   "execution_count": null,
   "id": "a48e880a",
   "metadata": {},
   "outputs": [],
   "source": []
  },
  {
   "cell_type": "code",
   "execution_count": null,
   "id": "f8289805",
   "metadata": {},
   "outputs": [],
   "source": []
  }
 ],
 "metadata": {
  "language_info": {
   "name": "python"
  }
 },
 "nbformat": 4,
 "nbformat_minor": 5
}
