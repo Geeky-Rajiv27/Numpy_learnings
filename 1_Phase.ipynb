{
 "cells": [
  {
   "cell_type": "markdown",
   "id": "a8ff92f9",
   "metadata": {},
   "source": [
    "## Numpy array and basics\n",
    "Learning numpy myself"
   ]
  },
  {
   "cell_type": "code",
   "execution_count": 2,
   "id": "5f57ee01",
   "metadata": {},
   "outputs": [],
   "source": [
    "import numpy as np"
   ]
  },
  {
   "cell_type": "markdown",
   "id": "2face6f3",
   "metadata": {},
   "source": [
    "## creating an 1-D and 2-D array"
   ]
  },
  {
   "cell_type": "code",
   "execution_count": 4,
   "id": "47e2f761",
   "metadata": {},
   "outputs": [
    {
     "name": "stdout",
     "output_type": "stream",
     "text": [
      "1 dimensional array :  [1 2 3 4 5]\n"
     ]
    }
   ],
   "source": [
    "arr_1D = np.array([1,2,3,4,5])\n",
    "print(\"1 dimensional array : \" ,arr_1D)"
   ]
  },
  {
   "cell_type": "code",
   "execution_count": 3,
   "id": "5313aae2",
   "metadata": {},
   "outputs": [
    {
     "name": "stdout",
     "output_type": "stream",
     "text": [
      "2 dimensional array :  [[1 2 3]\n",
      " [4 5 6]]\n"
     ]
    }
   ],
   "source": [
    "arr_2D = np.array([[1,2,3],[4, 5, 6]])\n",
    "print(\"2 dimensional array : \" ,arr_2D)"
   ]
  },
  {
   "cell_type": "markdown",
   "id": "4ac0d958",
   "metadata": {},
   "source": [
    "## List Vs numpy's array"
   ]
  },
  {
   "cell_type": "code",
   "execution_count": null,
   "id": "1709c98b",
   "metadata": {},
   "outputs": [
    {
     "name": "stdout",
     "output_type": "stream",
     "text": [
      "The list multiplication :  [1, 2, 3, 1, 2, 3]\n"
     ]
    }
   ],
   "source": [
    "#list multiplication (python array) :\n",
    "l = [1 ,2 ,3]\n",
    "print(\"The list multiplication : \", l * 2)  # It just repeats the list elements for factor \n",
    "#  times. Here from (l * 2) ==> 2 is called factors"
   ]
  },
  {
   "cell_type": "code",
   "execution_count": 9,
   "id": "0a812eef",
   "metadata": {},
   "outputs": [
    {
     "name": "stdout",
     "output_type": "stream",
     "text": [
      "The numpy array multiplication :  [2 4 6]\n"
     ]
    }
   ],
   "source": [
    "#numpy array Multiplication :\n",
    "numpy_arr = np.array([1, 2, 3])\n",
    "print(\"The numpy array multiplication : \", numpy_arr * 2)"
   ]
  },
  {
   "cell_type": "code",
   "execution_count": 10,
   "id": "d8cb844b",
   "metadata": {},
   "outputs": [
    {
     "name": "stdout",
     "output_type": "stream",
     "text": [
      "Total time for py_list execution :  0.04598712921142578\n"
     ]
    }
   ],
   "source": [
    "#importing time library\n",
    "# checking the execution time of python list(array) and numpy_array\n",
    "import time \n",
    "start = time.time() # start will store the starting time of exection\n",
    "py_list = [i*2 for i in range(1000000)]\n",
    "print(\"Total time for py_list execution : \", time.time() - start)\n",
    "# here time.time() - start means ===> final - initial time = time for execution"
   ]
  },
  {
   "cell_type": "code",
   "execution_count": 11,
   "id": "97af6d23",
   "metadata": {},
   "outputs": [
    {
     "name": "stdout",
     "output_type": "stream",
     "text": [
      "Total time execution for numpy_array :  0.004121065139770508\n"
     ]
    }
   ],
   "source": [
    "start = time.time()\n",
    "#numpy_arr = np.array([1, 2, 3, ...........]) # this is not possible to go upto 10000000 so,\n",
    "#we have special methods called (arange()) that has attributes start, stop and step\n",
    "numpy_arr = np.arange(1000000) * 2\n",
    "print(\"Total time execution for numpy_array : \", time.time() - start)"
   ]
  },
  {
   "cell_type": "markdown",
   "id": "2757354d",
   "metadata": {},
   "source": [
    "# above we can see numpy_array took less time than py_list. Hence numpy_array is faster"
   ]
  },
  {
   "cell_type": "markdown",
   "id": "6e4a70fd",
   "metadata": {},
   "source": [
    "                                # Creating array from scratch."
   ]
  },
  {
   "cell_type": "code",
   "execution_count": 6,
   "id": "e447d9b5",
   "metadata": {},
   "outputs": [
    {
     "name": "stdout",
     "output_type": "stream",
     "text": [
      "The zeros array is : \n",
      " [[0. 0. 0.]\n",
      " [0. 0. 0.]]\n",
      "The ones array is : \n",
      " [[1. 1. 1.]\n",
      " [1. 1. 1.]]\n"
     ]
    }
   ],
   "source": [
    "#NOTE :     This is totally different cell so here we need to import numpy as np\n",
    "import numpy as np\n",
    "#creating array containing all element (0) of order 2 X 3 i.e ; 2 - rows  and 3 - columns\n",
    "#NOTE : syntax : np.zeros((rows, column))\n",
    "\n",
    "zeros = np.zeros((2,3))\n",
    "print(\"The zeros array is : \\n\", zeros)\n",
    "\n",
    "\n",
    "#similarly creating an array of elements (1) with same order as above\n",
    "\n",
    "ones = np.ones((2,3))\n",
    "print(\"The ones array is : \\n\", ones)\n"
   ]
  },
  {
   "cell_type": "code",
   "execution_count": null,
   "id": "56922a07",
   "metadata": {},
   "outputs": [
    {
     "name": "stdout",
     "output_type": "stream",
     "text": [
      "Full array : \n",
      " [[9 9 9]\n",
      " [9 9 9]]\n"
     ]
    }
   ],
   "source": [
    "#NOTE: now creating a full array with a constant value 9\n",
    "# ---> This gives us more control over array design\n",
    "\n",
    "full_array = np.full((2,3), 9)\n",
    "print(\"Full array : \\n\", full_array)"
   ]
  },
  {
   "cell_type": "code",
   "execution_count": 7,
   "id": "4a2eecc9",
   "metadata": {},
   "outputs": [
    {
     "name": "stdout",
     "output_type": "stream",
     "text": [
      "Random array : \n",
      " [[0.42770102 0.12258395 0.06085571]\n",
      " [0.31064019 0.55733244 0.84132552]]\n"
     ]
    }
   ],
   "source": [
    "# USing random() ==== the value will be between [0,1]\n",
    "random = np.random.random((2,3))\n",
    "print(\"Random array : \\n\", random)"
   ]
  },
  {
   "cell_type": "code",
   "execution_count": null,
   "id": "c00d6b21",
   "metadata": {},
   "outputs": [
    {
     "name": "stdout",
     "output_type": "stream",
     "text": [
      "sequence array: \n",
      " [0 2 4 6 8]\n"
     ]
    }
   ],
   "source": [
    "# using sequence ---> This gives me a sequence rather than a array of randomness\n",
    "#NOTE : syntax : (low , high , size)\n",
    "\n",
    "sequence = np.arange(0, 10, 2)\n",
    "print(\"sequence array: \\n\",sequence)"
   ]
  },
  {
   "cell_type": "markdown",
   "id": "c1d3e812",
   "metadata": {},
   "source": [
    "## Using Core number generation (under random())    || random number generator"
   ]
  },
  {
   "cell_type": "code",
   "execution_count": null,
   "id": "5397df1e",
   "metadata": {},
   "outputs": [
    {
     "name": "stdout",
     "output_type": "stream",
     "text": [
      "Random :  [0.02796397 0.48214528 0.3977376  0.94691001 0.54527369]\n"
     ]
    }
   ],
   "source": [
    "import numpy as np\n",
    "rng = np.random.default_rng()       # inside this we can also do seeding \n",
    "print(\"Random : \", rng.random(5))"
   ]
  },
  {
   "cell_type": "code",
   "execution_count": 4,
   "id": "54b2d23b",
   "metadata": {},
   "outputs": [
    {
     "name": "stdout",
     "output_type": "stream",
     "text": [
      "Integers : \n",
      " [8 2 9 3 6 5 0 3 3 3]\n"
     ]
    }
   ],
   "source": [
    "#NOTE : rng.integers(low, high , size)\n",
    "print(\"Integers : \\n\", rng.integers(0, 10, 10)) # this high = 10 means (n-1) and size = 10 means 10 ota"
   ]
  },
  {
   "cell_type": "code",
   "execution_count": 5,
   "id": "55f773b6",
   "metadata": {},
   "outputs": [
    {
     "name": "stdout",
     "output_type": "stream",
     "text": [
      "Choices :  ['apple' 'None']\n"
     ]
    }
   ],
   "source": [
    "# NOTE : rng.choice(listvariable, size, replace , p)        # p is optional once check hai !\n",
    "a = [\"apple\", \"banana\" \"cherry\" , \"None\"]\n",
    "print(\"Choices : \",rng.choice(a,2,True))"
   ]
  },
  {
   "cell_type": "code",
   "execution_count": null,
   "id": "d6d5e4f7",
   "metadata": {},
   "outputs": [
    {
     "name": "stdout",
     "output_type": "stream",
     "text": [
      "Original num list :  [0 1 2 3 4]\n",
      "After suffling : \n",
      " [1 2 3 0 4]\n"
     ]
    }
   ],
   "source": [
    "#NOTE : rng.shuffle(variable)\n",
    "\n",
    "num = np.arange(5)      # this means (n-1) = [0, 1, 2, 3, 4]\n",
    "print(\"Original num list : \", num)\n",
    "#NOTE :print(\"After suffliing : \\n\", rng.shuffle(num))     # ❌ this is not how it's done       NOTE OUTPUT : None\n",
    "rng.shuffle(num)    #since this make changes over the original\n",
    "print(\"After suffling : \\n\", num)"
   ]
  },
  {
   "cell_type": "code",
   "execution_count": null,
   "id": "6d17f865",
   "metadata": {},
   "outputs": [
    {
     "name": "stdout",
     "output_type": "stream",
     "text": [
      "Original array :  [ 0  1  2  3  4  5  6  7  8  9 10]\n",
      "After shuffling using permutation :  [ 0  4  2  8  3  1  7  6  9 10  5]\n"
     ]
    }
   ],
   "source": [
    "# NOTE : rng.permutation(variable) --> This makes changes on a copy of the original. Otherwise returns new array\n",
    "\n",
    "arrayPermutation = np.arange(11)    # 11 means --> 0 to 10\n",
    "print(\"Original array : \", arrayPermutation)\n",
    "print(\"After shuffling using permutation : \", rng.permutation(arrayPermutation))\n",
    "\n"
   ]
  },
  {
   "cell_type": "markdown",
   "id": "bef25720",
   "metadata": {},
   "source": [
    "## #NOTE: common probability distribution"
   ]
  },
  {
   "cell_type": "code",
   "execution_count": 10,
   "id": "93ae15ce",
   "metadata": {},
   "outputs": [
    {
     "name": "stdout",
     "output_type": "stream",
     "text": [
      "Notmal distribution :  [-0.15524085 -0.38458786 -1.13214578 -1.12727993 -0.37573063]\n"
     ]
    }
   ],
   "source": [
    "import numpy as np\n",
    "rng = np.random.default_rng()       \n",
    "\n",
    "#NOTE : for normal distribution\n",
    "\n",
    "print(\"Notmal distribution : \", rng.normal(loc=0, scale=1, size=5))"
   ]
  },
  {
   "cell_type": "code",
   "execution_count": 13,
   "id": "2fce480f",
   "metadata": {},
   "outputs": [
    {
     "data": {
      "image/png": "[encoded data removed]",
      "text/plain": [
       "<Figure size 640x480 with 1 Axes>"
      ]
     },
     "metadata": {},
     "output_type": "display_data"
    }
   ],
   "source": [
    "#NOTE With matplot like we will see some graphs here of the random data\n",
    "\n",
    "import numpy as np\n",
    "import matplotlib.pyplot as plt\n",
    "\n",
    "# Random generator\n",
    "rng = np.random.default_rng(42)\n",
    "\n",
    "# Generate 1000 samples from a normal distribution\n",
    "data = rng.normal(loc=0, scale=1, size=1000)\n",
    "\n",
    "# Histogram (rectangles)\n",
    "plt.hist(data, bins=30, density=True, alpha=0.5, color='skyblue', edgecolor='black')\n",
    "\n",
    "# Create smooth x values\n",
    "x = np.linspace(min(data), max(data), 1000)\n",
    "\n",
    "# Calculate PDF of normal distribution\n",
    "mean, std = 0, 1\n",
    "pdf = (1/(std * np.sqrt(2 * np.pi))) * np.exp(-0.5 * ((x - mean)/std)**2)\n",
    "\n",
    "# Plot the smooth bell curve\n",
    "plt.plot(x, pdf, color='red', linewidth=2)\n",
    "\n",
    "plt.title(\"Normal Distribution (mean=0, std=1)\")\n",
    "plt.xlabel(\"Value\")\n",
    "plt.ylabel(\"Density\")\n",
    "plt.show()\n",
    "\n"
   ]
  },
  {
   "cell_type": "code",
   "execution_count": 14,
   "id": "418836a4",
   "metadata": {},
   "outputs": [
    {
     "name": "stdout",
     "output_type": "stream",
     "text": [
      "Uniform :  [6.47071798 3.42362433 4.08156668 4.40050108 1.25807018]\n"
     ]
    }
   ],
   "source": [
    "#NOTE : for uniform distribution : \n",
    "\n",
    "print(\"Uniform : \", rng.uniform(low=0, high=10, size=5))"
   ]
  },
  {
   "cell_type": "markdown",
   "id": "35fce5b4",
   "metadata": {},
   "source": [
    "## ❓ Question:\n",
    "\n",
    "A factory claims that a machine produces a defective item only 5% of the time.\n",
    "You test this claim by sampling 20 items produced by the machine.\n",
    "\n",
    "👉 Use rng.binomial to simulate how many defective items you might get in such a sample.\n",
    "\n",
    "🔹 Hints:\n",
    "\n",
    "Probability of defect = p = 0.05\n",
    "\n",
    "Number of trials = n = 20\n",
    "\n",
    "Run multiple simulations (e.g. 10 times) to see different possible outcomes."
   ]
  },
  {
   "cell_type": "code",
   "execution_count": 15,
   "id": "0335d37b",
   "metadata": {},
   "outputs": [
    {
     "name": "stdout",
     "output_type": "stream",
     "text": [
      "Binomial :  [0 1 1 1 0 0 0 2 2 0]\n"
     ]
    }
   ],
   "source": [
    "#NOTE : for binomial distribution :\n",
    "\n",
    "print(\"Binomial : \", rng.binomial(20, 0.05, 10))"
   ]
  },
  {
   "cell_type": "markdown",
   "id": "9b136ceb",
   "metadata": {},
   "source": [
    "### Vector, Matrix and Tensor"
   ]
  },
  {
   "cell_type": "code",
   "execution_count": 15,
   "id": "4dd49c77",
   "metadata": {},
   "outputs": [
    {
     "name": "stdout",
     "output_type": "stream",
     "text": [
      "Vector :  [1 2 4]\n",
      "\n",
      "\n",
      "Matrix : \n",
      " [[1 2 3]\n",
      " [4 5 4]]\n",
      "\n",
      "\n",
      "Tensor : \n",
      " [[[1 2 3]\n",
      "  [3 4 5]]\n",
      "\n",
      " [[5 6 7]\n",
      "  [7 8 9]]]\n"
     ]
    }
   ],
   "source": [
    "#NOTE : 2D is a matrix and 1D is vector while NOTE Tensor is more than 2D \n",
    "\n",
    "#NOTE : THis is just a syntax : np.array([])    --- upto this brackets      -- 1D\n",
    "#NOTE : THis is just a syntax : np.array([[]])    --- upto this brackets      -- 2D\n",
    "#NOTE : THis is just a syntax : np.array([[[\n",
    "#                                           ]]])    --- upto this brackets      -- tensors\n",
    "\n",
    "\n",
    "\n",
    "vector = np.array([1,2,4])\n",
    "print(\"Vector : \", vector)\n",
    "print(\"\\n\")\n",
    "matrix = np.array([[1, 2, 3],   # This is 2 dimensional\n",
    "                   [4, 5, 4]])\n",
    "print(\"Matrix : \\n\", matrix)\n",
    "print(\"\\n\")\n",
    "tensor = np.array([[[1,2,3], [3, 4, 5]],\n",
    "                    [[5, 6, 7], [7, 8, 9]]])\n",
    "print(\"Tensor : \\n\", tensor)"
   ]
  },
  {
   "cell_type": "markdown",
   "id": "19668830",
   "metadata": {},
   "source": [
    "### Arrays Properties\n"
   ]
  },
  {
   "cell_type": "markdown",
   "id": "d6fa75b0",
   "metadata": {},
   "source": [
    "## initial work"
   ]
  },
  {
   "cell_type": "code",
   "execution_count": null,
   "id": "0e60ee4a",
   "metadata": {},
   "outputs": [],
   "source": [
    "import numpy as np\n",
    "\n",
    "a = np.array([[1,2,3],      # this is just a matrice 2D\n",
    "              [4,5,6]])"
   ]
  },
  {
   "cell_type": "code",
   "execution_count": 18,
   "id": "e42bcbd7",
   "metadata": {},
   "outputs": [
    {
     "name": "stdout",
     "output_type": "stream",
     "text": [
      "The dimension of the given array is : 2D\n"
     ]
    }
   ],
   "source": [
    "#NOTE : property - 1) ==> .ndim\n",
    "print(f\"The dimension of the given array is : {a.ndim}D\")"
   ]
  },
  {
   "cell_type": "code",
   "execution_count": null,
   "id": "029651d6",
   "metadata": {},
   "outputs": [
    {
     "name": "stdout",
     "output_type": "stream",
     "text": [
      "Shape of the array is : (2, 3)\n"
     ]
    }
   ],
   "source": [
    "# NOTE : property - 2 ) .shape\n",
    "print(f\"Shape of the array is : {a.shape}\")"
   ]
  },
  {
   "cell_type": "code",
   "execution_count": 21,
   "id": "fa29ddb3",
   "metadata": {},
   "outputs": [
    {
     "name": "stdout",
     "output_type": "stream",
     "text": [
      "The size of the given array is 2 rows 3 columns : \n"
     ]
    }
   ],
   "source": [
    "# NOTE : property - 3 ) .size\n",
    "# NOTE : we can format this like we can explicity extract rows X cols\n",
    "rows, cols = a.shape\n",
    "print(f\"The size of the given array is {rows} rows {cols} columns : \")"
   ]
  },
  {
   "cell_type": "code",
   "execution_count": 22,
   "id": "14061d10",
   "metadata": {},
   "outputs": [
    {
     "name": "stdout",
     "output_type": "stream",
     "text": [
      "Datatype of the given array : is int64\n"
     ]
    }
   ],
   "source": [
    "# NOTE : property - 4) .dtype   #--> This is basically datatypes of whole array\n",
    "\n",
    "print(f\"Datatype of the given array : is {a.dtype}\")"
   ]
  },
  {
   "cell_type": "code",
   "execution_count": 28,
   "id": "2570dd51",
   "metadata": {},
   "outputs": [
    {
     "name": "stdout",
     "output_type": "stream",
     "text": [
      "Itemsize of the given array : 8 bytes\n"
     ]
    }
   ],
   "source": [
    "# NOTE :  property - 5) .itemsize  #--> This tells out the memory consumption of each elements of the array\n",
    "\n",
    "print(f\"Itemsize of the given array : {a.itemsize} bytes\")"
   ]
  },
  {
   "cell_type": "code",
   "execution_count": 29,
   "id": "71e860f4",
   "metadata": {},
   "outputs": [
    {
     "name": "stdout",
     "output_type": "stream",
     "text": [
      "Total memory consumption of the given array is : 48 bytes\n"
     ]
    }
   ],
   "source": [
    "#NOTE : property - 6) .nbytes\n",
    "\n",
    "print(f\"Total memory consumption of the given array is : {a.nbytes} bytes\")"
   ]
  },
  {
   "cell_type": "code",
   "execution_count": 31,
   "id": "8581b0de",
   "metadata": {},
   "outputs": [
    {
     "name": "stdout",
     "output_type": "stream",
     "text": [
      "Original matrice of a is : \n",
      " [[1 2 3]\n",
      " [4 5 6]]\n",
      "Transpose matrice of a is : \n",
      " [[1 4]\n",
      " [2 5]\n",
      " [3 6]]\n"
     ]
    }
   ],
   "source": [
    "# NOTE : property - 7) .T       --> This is to transpose a matrice\n",
    "\n",
    "print(f\"Original matrice of a is : \\n {a}\")\n",
    "print(f\"Transpose matrice of a is : \\n {a.T}\")\n"
   ]
  },
  {
   "cell_type": "markdown",
   "id": "6f6a84a7",
   "metadata": {},
   "source": [
    "## ARRAY RESHAPING : "
   ]
  },
  {
   "cell_type": "code",
   "execution_count": null,
   "id": "cd56ca09",
   "metadata": {},
   "outputs": [
    {
     "name": "stdout",
     "output_type": "stream",
     "text": [
      "Normal array :  [0 1 2 3 4 5 6 7 8 9]\n"
     ]
    }
   ],
   "source": [
    "\n",
    "arr = np.arange(10)\n",
    "print(\"Normal array : \", arr)"
   ]
  },
  {
   "cell_type": "code",
   "execution_count": 34,
   "id": "ae346a45",
   "metadata": {},
   "outputs": [
    {
     "name": "stdout",
     "output_type": "stream",
     "text": [
      "After reshaping the given array : \n",
      " [[0 1 2 3 4]\n",
      " [5 6 7 8 9]]\n"
     ]
    }
   ],
   "source": [
    "# NOTE : 1) reshape(rows, columns) ==> this can convert a vector into matrices of any order if possible\n",
    "reshaped_array = arr.reshape(2,5)\n",
    "print(\"After reshaping the given array : \\n\", reshaped_array)"
   ]
  },
  {
   "cell_type": "markdown",
   "id": "0ce0eef6",
   "metadata": {},
   "source": [
    "## difference between .flatten() and .ravel()"
   ]
  },
  {
   "cell_type": "markdown",
   "id": "2fe8019d",
   "metadata": {},
   "source": [
    "Use flatten() when:\n",
    "You need a new, independent copy of the array and want to ensure the original data is never changed.\n",
    "The highest performance is not a critical concern.\n",
    "\n",
    "\n",
    "Use ravel() when:\n",
    "You want the most memory-efficient and fastest way to flatten an array.\n",
    "You are aware that changes to the returned array might affect the original data. "
   ]
  },
  {
   "cell_type": "code",
   "execution_count": 35,
   "id": "792ee453",
   "metadata": {},
   "outputs": [
    {
     "name": "stdout",
     "output_type": "stream",
     "text": [
      "After flattening : \n",
      " [0 1 2 3 4 5 6 7 8 9]\n"
     ]
    }
   ],
   "source": [
    "# NOTE : 2) flatten()       ---> This converts the matrices of particular order into a normal vector \n",
    "\n",
    "flattened_array = reshaped_array.flatten()\n",
    "print(f\"After flattening : \\n\", flattened_array)"
   ]
  },
  {
   "cell_type": "code",
   "execution_count": null,
   "id": "251f3f64",
   "metadata": {},
   "outputs": [
    {
     "name": "stdout",
     "output_type": "stream",
     "text": [
      "The ravelled_array is :  [0 1 2 3 4 5 6 7 8 9]\n",
      "After flattening :  [0 1 2 3 4 5 6 7 8 9]\n"
     ]
    }
   ],
   "source": [
    "# NOTE : 3) .ravel()---> This makes changes over the original\n",
    "\n",
    "ravelled_array = flattened_array.ravel()\n",
    "print(f\"The ravelled_array is : \",ravelled_array)\n"
   ]
  },
  {
   "cell_type": "markdown",
   "id": "d5c4bb4d",
   "metadata": {},
   "source": [
    "## Some array opearation"
   ]
  },
  {
   "cell_type": "markdown",
   "id": "4fcc5048",
   "metadata": {},
   "source": [
    " # SLICING OF ARRAY"
   ]
  },
  {
   "cell_type": "code",
   "execution_count": 11,
   "id": "b650f4c2",
   "metadata": {},
   "outputs": [
    {
     "name": "stdout",
     "output_type": "stream",
     "text": [
      "Array_1D :  [0 1 2 3 4 5 6 7 8 9]\n",
      "Basic slicing :  [1 3 5 7]\n"
     ]
    }
   ],
   "source": [
    "#NOTE : basic slicing of the array\n",
    "import numpy as np\n",
    "\n",
    "array_1D = np.arange(10)\n",
    "print(\"Array_1D : \",array_1D)\n",
    "print(\"Basic slicing : \", array_1D[1:9:2])      #(startIndex : endIndex : step)\n"
   ]
  },
  {
   "cell_type": "code",
   "execution_count": 12,
   "id": "d1f2c7a6",
   "metadata": {},
   "outputs": [
    {
     "name": "stdout",
     "output_type": "stream",
     "text": [
      "negative slicing :  5\n"
     ]
    }
   ],
   "source": [
    "#NOTE : negative slicing concept revision : \n",
    "\n",
    "print(\"negative slicing : \", array_1D[-5])"
   ]
  },
  {
   "cell_type": "markdown",
   "id": "1681a37e",
   "metadata": {},
   "source": [
    "### slicing of 2D and 3D array"
   ]
  },
  {
   "cell_type": "markdown",
   "id": "68facdb5",
   "metadata": {},
   "source": [
    "# for multi- dimensional matrices we need to give index of both rows and columns .\n",
    "# the count of the rows will be form 0th rows to nth . Similarly the count of the \n",
    "# columns will also be same as rows"
   ]
  },
  {
   "cell_type": "code",
   "execution_count": 22,
   "id": "7e2bb847",
   "metadata": {},
   "outputs": [
    {
     "name": "stdout",
     "output_type": "stream",
     "text": [
      "Specific element :  5\n"
     ]
    }
   ],
   "source": [
    "Array_2D = np.array([[1,2,3],\n",
    "                     [4,5,6],\n",
    "                     [7,8,9]])\n",
    "#To select element - 5 from above matrice\n",
    "print(\"Specific element : \", Array_2D[1, 1])      # (rows and column)"
   ]
  },
  {
   "cell_type": "code",
   "execution_count": null,
   "id": "ade2c854",
   "metadata": {},
   "outputs": [],
   "source": []
  },
  {
   "cell_type": "code",
   "execution_count": null,
   "id": "f71145b6",
   "metadata": {},
   "outputs": [],
   "source": []
  }
 ],
 "metadata": {
  "kernelspec": {
   "display_name": "numpy_env",
   "language": "python",
   "name": "python3"
  },
  "language_info": {
   "codemirror_mode": {
    "name": "ipython",
    "version": 3
   },
   "file_extension": ".py",
   "mimetype": "text/x-python",
   "name": "python",
   "nbconvert_exporter": "python",
   "pygments_lexer": "ipython3",
   "version": "3.10.5"
  }
 },
 "nbformat": 4,
 "nbformat_minor": 5
}
