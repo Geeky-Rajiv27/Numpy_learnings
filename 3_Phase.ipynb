{
 "cells": [
  {
   "cell_type": "code",
   "execution_count": 2,
   "id": "9354dfe4",
   "metadata": {},
   "outputs": [],
   "source": [
    "import numpy as np\n",
    "import matplotlib.pyplot as mat"
   ]
  },
  {
   "cell_type": "code",
   "execution_count": 12,
   "id": "f083eed0",
   "metadata": {},
   "outputs": [
    {
     "name": "stdout",
     "output_type": "stream",
     "text": [
      "The dimension of above data : 2D\n",
      "The shape of above data : (5, 5)\n",
      "First 3 - data : \n",
      " [[375   3  40  25  96]\n",
      " [420   3  50  30  98]\n",
      " [390   2  60  28  94]]\n",
      "\n",
      "\n",
      "restaurant data without id : \n",
      " [[ 3 40 25 96]\n",
      " [ 3 50 30 98]\n",
      " [ 2 60 28 94]\n",
      " [ 2 45 22 92]\n",
      " [ 3 55 35 99]]\n",
      "\n",
      "\n"
     ]
    }
   ],
   "source": [
    "#data structures : [restaurant_id, 2021, 2022, 2023, 2024]\n",
    "# This is data of world's 5 famous restaurant\n",
    "\n",
    "restaurants_data = np.array([\n",
    "    [375, 3, 40, 25, 96],   # Noma (Denmark)\n",
    "    [420, 3, 50, 30, 98],   # Osteria Francescana (Italy)\n",
    "    [390, 2, 60, 28, 94],   # Eleven Madison Park (USA)\n",
    "    [310, 2, 45, 22, 92],   # Central (Peru)\n",
    "    [450, 3, 55, 35, 99]    # Mirazur (France)\n",
    "])\n",
    "\n",
    "print(f\"The dimension of above data : {restaurants_data.ndim}D\")\n",
    "print(f\"The shape of above data : {restaurants_data.shape}\")\n",
    "#NOTE : accessing first 3 restaurant data\n",
    "print(\"First 3 - data : \\n\", restaurants_data[0:3])\n",
    "print(\"\\n\")\n",
    "print(\"restaurant data without id : \\n\", restaurants_data[:, 1:])\n",
    "print(\"\\n\")\n",
    "\n"
   ]
  },
  {
   "cell_type": "code",
   "execution_count": 11,
   "id": "1e261801",
   "metadata": {},
   "outputs": [
    {
     "name": "stdout",
     "output_type": "stream",
     "text": [
      "Total sales of 5 company for year 2021 : \n",
      " [164 181 184 161 192]\n"
     ]
    }
   ],
   "source": [
    "#NOTE : total shales of each restaurants : \n",
    "#NOTE : array[row_start:row_end : row_step , column_start:column_end : column_step]\n",
    "\n",
    "total_year_sales = np.sum(restaurants_data[:, 1:], axis=1)\n",
    "print(\"Total sales of 5 company for year 2021 : \\n\", total_year_sales)"
   ]
  },
  {
   "cell_type": "code",
   "execution_count": null,
   "id": "ad4284ee",
   "metadata": {},
   "outputs": [
    {
     "name": "stdout",
     "output_type": "stream",
     "text": [
      "The minimum sales of each of the 5 company among year 2021, 2022, 2023 and 2024 : \n",
      " [3 3 2 2 3]\n"
     ]
    }
   ],
   "source": [
    "#NOTE : Minimum sales of each company \n",
    "\n",
    "min_sales = np.min(restaurants_data[:, 1:], axis=1)\n",
    "print(\"The minimum sales of each of the 5 company among year 2021, 2022, 2023 and 2024 : \\n\"\n",
    "      ,min_sales)"
   ]
  },
  {
   "cell_type": "code",
   "execution_count": null,
   "id": "45420edf",
   "metadata": {},
   "outputs": [
    {
     "name": "stdout",
     "output_type": "stream",
     "text": [
      "Maximum sales among 5 company every year : \n",
      " [ 3 60 35 99]\n"
     ]
    }
   ],
   "source": [
    "#NOTE :  Maximum sales per year\n",
    "\n",
    "max_sales = np.max(restaurants_data[:, 1:], axis=0)\n",
    "print(\"Maximum sales among 5 company every year : \\n\", max_sales)"
   ]
  },
  {
   "cell_type": "code",
   "execution_count": 23,
   "id": "be8ecded",
   "metadata": {},
   "outputs": [
    {
     "name": "stdout",
     "output_type": "stream",
     "text": [
      "Average sales of all 5 company : \n",
      " [41.   45.25 46.   40.25 48.  ]\n",
      "\n",
      "\n",
      "Average sale of restaurant 1 : 41.00\n",
      "Average sale of restaurant 2 : 45.25\n",
      "Average sale of restaurant 3 : 46.00\n",
      "Average sale of restaurant 4 : 40.25\n",
      "Average sale of restaurant 5 : 48.00\n"
     ]
    }
   ],
   "source": [
    "#NOTE : Average sales of each restaurant after 2021, 2022, 2023, 2024\n",
    "\n",
    "avg_sales = np.average(restaurants_data[:, 1:], axis=1)\n",
    "print(\"Average sales of all 5 company : \\n\", avg_sales) # this won't show digit after decimal\n",
    "print(\"\\n\")\n",
    "#NOTE : formating the result\n",
    "for i, avg in enumerate(avg_sales, start=1):\n",
    "    print(f\"Average sale of restaurant {i} : {avg:.2f}\")"
   ]
  },
  {
   "cell_type": "code",
   "execution_count": 24,
   "id": "77ee6c0b",
   "metadata": {},
   "outputs": [
    {
     "name": "stdout",
     "output_type": "stream",
     "text": [
      "Cummulative sales of Restaurant 1 :  [  3  43  68 164]\n",
      "Cummulative sales of Restaurant 2 :  [  3  53  83 181]\n",
      "Cummulative sales of Restaurant 3 :  [  2  62  90 184]\n",
      "Cummulative sales of Restaurant 4 :  [  2  47  69 161]\n",
      "Cummulative sales of Restaurant 5 :  [  3  58  93 192]\n"
     ]
    }
   ],
   "source": [
    "#NOTE : Finding cummulative sales of each company : \n",
    "\n",
    "cummu_sale = np.cumsum(restaurants_data[:, 1:], axis=1)\n",
    "for i, cummulative_sale in enumerate(cummu_sale, start=1):\n",
    "    print(f\"Cummulative sales of Restaurant {i} : \", cummulative_sale)"
   ]
  },
  {
   "cell_type": "markdown",
   "id": "6022f75a",
   "metadata": {},
   "source": [
    "### Vector operation in numpy"
   ]
  },
  {
   "cell_type": "code",
   "execution_count": 25,
   "id": "960998b3",
   "metadata": {},
   "outputs": [
    {
     "name": "stdout",
     "output_type": "stream",
     "text": [
      "Vector addition :  [2 4 6]\n"
     ]
    }
   ],
   "source": [
    "vec1 = np.array([1, 2, 3])\n",
    "vec2 = np.array([1, 2, 3])\n",
    "\n",
    "#NOTE : Vector addition \n",
    "print(\"Vector addition : \", vec1 + vec2)\n"
   ]
  },
  {
   "cell_type": "code",
   "execution_count": 27,
   "id": "3b4eec25",
   "metadata": {},
   "outputs": [
    {
     "name": "stdout",
     "output_type": "stream",
     "text": [
      "Vector multiplication :  [1 4 9]\n"
     ]
    }
   ],
   "source": [
    "#NOTE : Vector multiplication\n",
    "print(\"Vector multiplication : \", vec1 * vec2)"
   ]
  },
  {
   "cell_type": "code",
   "execution_count": 28,
   "id": "f4ee5ef7",
   "metadata": {},
   "outputs": [
    {
     "name": "stdout",
     "output_type": "stream",
     "text": [
      "Vector subtraction :  [0 0 0]\n"
     ]
    }
   ],
   "source": [
    "#NOTE : Vector subtraction : \n",
    "print(\"Vector subtraction : \", vec1 - vec2)"
   ]
  },
  {
   "cell_type": "code",
   "execution_count": null,
   "id": "2e6a3230",
   "metadata": {},
   "outputs": [
    {
     "name": "stdout",
     "output_type": "stream",
     "text": [
      "Dot product of vector-1 and vector-2 :  14\n"
     ]
    }
   ],
   "source": [
    "#NOTE : Dot product  : For this, we use a numpy method np.dot(vec1, vec2)\n",
    "# we know : if a = (a1, a2) and b = (b1, b2)\n",
    "        #   a.b = a1.b1 + a2.b2        --->     2D vector dot product\n",
    "\n",
    "print(\"Dot product of vector-1 and vector-2 : \", np.dot(vec1, vec2))"
   ]
  },
  {
   "cell_type": "markdown",
   "id": "8527db75",
   "metadata": {},
   "source": [
    "### finding angle between 2 - vectors:\n",
    "        for this we use the same formula we use mathematically but to calculate the magnitude there is special methods and similarly for trigonometric ratios we have methods."
   ]
  },
  {
   "cell_type": "code",
   "execution_count": 32,
   "id": "ae89bc06",
   "metadata": {},
   "outputs": [
    {
     "name": "stdout",
     "output_type": "stream",
     "text": [
      "The angle between vec1 and vec2 : 0.0 degree\n"
     ]
    }
   ],
   "source": [
    "angle = np.arccos(np.dot(vec1, vec2) / (np.linalg.norm(vec1) * np.linalg.norm(vec1)))\n",
    "print(f\"The angle between vec1 and vec2 : {angle} degree\")"
   ]
  },
  {
   "cell_type": "markdown",
   "id": "fefbfabf",
   "metadata": {},
   "source": [
    "### vectorized :\n",
    " basically means making anything able to broadcasts(apply changes on each at a same time)\n",
    "        for eg : if i had used for loop i had to go through one by one for array elements \n",
    "        But with the help of vectorize feature we can do easily.\n",
    "\n",
    "        here below, np.vectorize() ==> is just a numpy method and \n",
    "        str.upper ===> is one of the property for string like we have lower for lowercase, \n",
    "        capitalize for capital"
   ]
  },
  {
   "cell_type": "code",
   "execution_count": 5,
   "id": "c8102a6e",
   "metadata": {},
   "outputs": [
    {
     "name": "stdout",
     "output_type": "stream",
     "text": [
      "Vectorized_uppercase of above array :  ['BIRYANI' 'CHINESE' 'PIZZA' 'BURGER' 'CAFE']\n",
      "\n",
      "\n",
      "Vectorized_lowercase of above array :  ['biryani' 'chinese' 'pizza' 'burger' 'cafe']\n",
      "\n",
      "\n",
      "Vectorized_capital of above array :  ['Biryani' 'Chinese' 'Pizza' 'Burger' 'Cafe']\n"
     ]
    }
   ],
   "source": [
    "restaurants_types = np.array(['biryani', 'chinese', 'pizza', 'burger', 'cafe'])\n",
    "vectorized_uppercase = np.vectorize(str.upper)\n",
    "print(\"Vectorized_uppercase of above array : \", vectorized_uppercase(restaurants_types))\n",
    "print(\"\\n\")\n",
    "vectorized_uppercase = np.vectorize(str.lower)\n",
    "print(\"Vectorized_lowercase of above array : \", vectorized_uppercase(restaurants_types))\n",
    "print(\"\\n\")\n",
    "vectorized_uppercase = np.vectorize(str.capitalize)\n",
    "print(\"Vectorized_capital of above array : \", vectorized_uppercase(restaurants_types))"
   ]
  }
 ],
 "metadata": {
  "kernelspec": {
   "display_name": "numpy_env",
   "language": "python",
   "name": "python3"
  },
  "language_info": {
   "codemirror_mode": {
    "name": "ipython",
    "version": 3
   },
   "file_extension": ".py",
   "mimetype": "text/x-python",
   "name": "python",
   "nbconvert_exporter": "python",
   "pygments_lexer": "ipython3",
   "version": "3.10.5"
  }
 },
 "nbformat": 4,
 "nbformat_minor": 5
}
